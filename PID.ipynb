{
 "cells": [
  {
   "cell_type": "code",
   "execution_count": 4,
   "metadata": {},
   "outputs": [],
   "source": [
    "import logging\n",
    "logger = logging.getLogger(\"pid_controller\")"
   ]
  },
  {
   "cell_type": "code",
   "execution_count": 6,
   "metadata": {},
   "outputs": [],
   "source": [
    "class PIController:\n",
    "    def __init__(self, proportional_constant=0, integral_constant=0):\n",
    "        self.proportional_constant = proportional_constant\n",
    "        self.integral_constant = integral_constant\n",
    "\n",
    "        #Running sum\n",
    "        self.integral_sum = 0\n",
    "\n",
    "    #to handle the value for the twon components\n",
    "\n",
    "    def handle_proportional(self, error):\n",
    "        return self.proportional_constant * error\n",
    "\n",
    "    def handle_integral(self, error):\n",
    "        self.integral_sum += error\n",
    "        return self.integral_constant * self.integral_sum\n",
    "\n",
    "    #handle the error to generate the adjustments\n",
    "    def get_value(self, error):\n",
    "        p = self.handle_proportional(error)\n",
    "        i = self.handle_integral(error)\n",
    "\n",
    "        logger.debug(f\"p: {p}, I: {i:.2f}\")\n",
    "        return p + i"
   ]
  },
  {
   "cell_type": "code",
   "execution_count": null,
   "metadata": {},
   "outputs": [],
   "source": []
  }
 ],
 "metadata": {
  "kernelspec": {
   "display_name": "Python 3.10.4 64-bit",
   "language": "python",
   "name": "python3"
  },
  "language_info": {
   "codemirror_mode": {
    "name": "ipython",
    "version": 3
   },
   "file_extension": ".py",
   "mimetype": "text/x-python",
   "name": "python",
   "nbconvert_exporter": "python",
   "pygments_lexer": "ipython3",
   "version": "3.10.4"
  },
  "orig_nbformat": 4,
  "vscode": {
   "interpreter": {
    "hash": "31f2aee4e71d21fbe5cf8b01ff0e069b9275f58929596ceb00d14d90e3e16cd6"
   }
  }
 },
 "nbformat": 4,
 "nbformat_minor": 2
}
